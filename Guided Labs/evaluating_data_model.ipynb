{
 "cells": [
  {
   "cell_type": "markdown",
   "id": "7f4eb522-d3a2-40f1-bb1b-38fda63f19c0",
   "metadata": {},
   "source": [
    "# Evaluating a Data Model\n",
    "\n",
    "In this lab you partition a dataset into two datasets, a training dataset and a test dataset. You use the training dataset to develop a model. You use the test dataset to evaluate the accuracy of the model, and then to evaluate predictive models in a repeatable manner.\n",
    "\n",
    "After you use the training set to create a model, you evaluate the model against the test dataset. You store the data in BigQuery, and use Jupyterlab to perform the analysis.\n",
    "\n",
    "This lab uses a dataset provided by [US Bureau of Transport Statistics](https://www.bts.gov/). The dataset provides historic information about internal flights in the United States and can be used to demonstrate a wide range of data science concepts and techniques.\n",
    "\n",
    "BigQuery is a RESTful web service that enables interactive analysis of massive datasets. BigQuery works in conjunction with Google Storage. See BigQuery for more information.\n",
    "\n",
    "## Objectives\n",
    "\n",
    "* Partition a BigQuery dataset into a training dataset and a test dataset.\n",
    "* Create a predictive model using the training dataset.\n",
    "* Evaluate the predictive model using the test dataset.\n",
    "\n",
    "This notebook is based on a hands-on lab on Qwiklabs. The link to the lab can be found at [here](https://www.cloudskillsboost.google/focuses/1163?parent=catalog)."
   ]
  },
  {
   "cell_type": "markdown",
   "id": "08fe030c-55bd-4a4f-ada0-d2b31d4cecc3",
   "metadata": {},
   "source": [
    "# Task 1: Prepare Your Environment\n",
    "\n",
    "This lab uses a set of code samples and scripts developed for [Data Science on the Google Cloud Platform, 2nd Edition](https://www.oreilly.com/library/view/data-science-on/9781098118945/) from O'Reilly Media, Inc. For this lab, you clone the sample repository from Github to Cloud Shell and carry out all of the lab tasks from there.\n",
    "\n",
    "## Selecting A Training Data Set\n",
    "\n",
    "Before selecting your training dataset, you must decide on a repeatable mechanism to select a subset of the data as the training dataset, which you use to create predictive models. You use the remaining data in the dataset as the test set, which you use to evaluate the effectiveness of your models.\n",
    "\n",
    "You also need to provide a representative selection of the data. Possible options:\n",
    "\n",
    "* Add a `WHERE` clause to select records using BigQuery's `RAND()` function. Unfortunately that makes it virtually impossible to select an independent evaluation test dataset. Also, the `RAND()` function returns different results every time it's run, which makes it impossible to compare model performance between different runs.\n",
    "* Select a specific date range, or just the first N records in the table. Unfortunately, you could inadvertently select training data that omits on some date-based variation in the data.\n",
    "* Identify a specific set of dates, each of which is initially chosen at random, as the training dataset. The dates are saved in a separate database table. This allows you to carry out multiple replays of training and test queries in a consistent manner. This is the **best approach**.\n",
    "\n",
    "To identify all of the unique dates in the dataset:\n",
    "\n",
    "```sql\n",
    "SELECT DISTINCT(FL_DATE) AS FL_DATE FROM `dsongcp.flights_tzcorr` ORDER BY FL_DATE\n",
    "```\n",
    "\n",
    "The result:\n",
    "\n",
    "![](https://media.discordapp.net/attachments/984655726406402088/993080674162589696/unknown.png)\n",
    "\n",
    "To randomly select 70% of these dates to be the training days:\n",
    "\n",
    "```sql\n",
    "SELECT\n",
    "  FL_DATE,\n",
    "  IF(ABS(MOD(FARM_FINGERPRINT(CAST(FL_DATE AS STRING)), 100)) < 70,\n",
    "     'True', 'False') AS is_train_day\n",
    "FROM (SELECT DISTINCT(FL_DATE) AS FL_DATE FROM dsongcp.flights_tzcorr) ORDER BY FL_DATE\n",
    "LIMIT 5\n",
    "```\n",
    "\n",
    "The result:\n",
    "\n",
    "![](https://media.discordapp.net/attachments/984655726406402088/993080738725498910/unknown.png)\n",
    "\n",
    "In the preceding query, the hash value of each of the unique days from the inner query is computed using the [FarmHash](https://opensource.googleblog.com/2014/03/introducing-farmhash.html) library. The `is_train_day` field is set to True if the last two digits of this hash value are less than 70.\n",
    "\n",
    "To save query result as a table:\n",
    "\n",
    "```sql\n",
    "CREATE OR REPLACE TABLE dsongcp.trainday AS\n",
    "SELECT\n",
    "  FL_DATE,\n",
    "  IF(ABS(MOD(FARM_FINGERPRINT(CAST(FL_DATE AS STRING)), 100)) < 70,\n",
    "     'True', 'False') AS is_train_day\n",
    "FROM (SELECT DISTINCT(FL_DATE) AS FL_DATE FROM dsongcp.flights_tzcorr) ORDER BY FL_DATE\n",
    "```"
   ]
  },
  {
   "cell_type": "markdown",
   "id": "75bc0767-d608-4ee6-9f81-77d618c541da",
   "metadata": {},
   "source": [
    "# Task 2: Create The Model Using The Training Data Set\n",
    "\n",
    "## Import Modules\n",
    "\n",
    "Import the necessary modules and initialize a BigQuery client. The BigQuery client sends and receives messages from the BigQuery API."
   ]
  },
  {
   "cell_type": "code",
   "execution_count": 1,
   "id": "700bdbb5-65fe-4f90-9d41-6bef2ff89859",
   "metadata": {},
   "outputs": [],
   "source": [
    "import matplotlib.pyplot as plt\n",
    "import seaborn as sns\n",
    "import pandas as pd\n",
    "import numpy as np\n",
    "from google.cloud import bigquery as bq"
   ]
  },
  {
   "cell_type": "markdown",
   "id": "ca6a6f4c-89e5-4bc4-a032-5ecd0ae92c3c",
   "metadata": {},
   "source": [
    "Create a variable with the new BigQuery query using just the training day partition of the dataset:"
   ]
  },
  {
   "cell_type": "code",
   "execution_count": 2,
   "id": "a5b95666-e3e7-455b-a9c1-d60fd3c78a1d",
   "metadata": {},
   "outputs": [
    {
     "name": "stderr",
     "output_type": "stream",
     "text": [
      "Query complete after 0.01s: 100%|██████████| 4/4 [00:00<00:00, 1742.36query/s]                        \n",
      "Downloading: 100%|██████████| 224/224 [00:02<00:00, 103.47rows/s]\n"
     ]
    }
   ],
   "source": [
    "%%bigquery depdelay\n",
    "SELECT\n",
    "    DEP_DELAY,\n",
    "    APPROX_QUANTILES(ARR_DELAY, 101)[OFFSET(70)] AS arrival_delay,\n",
    "    COUNT(ARR_DELAY) AS numflights\n",
    "FROM dsongcp.flights_tzcorr\n",
    "JOIN dsongcp.trainday USING(FL_DATE) WHERE is_train_day = 'True'\n",
    "GROUP BY DEP_DELAY HAVING numflights > 370 ORDER BY DEP_DELAY"
   ]
  },
  {
   "cell_type": "markdown",
   "id": "2857b9b5-354b-4dc9-9ac7-f9d23bc9b576",
   "metadata": {},
   "source": [
    "Plot the intersection of the 15 minute delay line with the 30% arrival delay probability line for the training dataset:"
   ]
  },
  {
   "cell_type": "code",
   "execution_count": 3,
   "id": "926631aa-e2f5-4d9d-baa2-99b9b6e2f243",
   "metadata": {},
   "outputs": [
    {
     "data": {
      "text/plain": [
       "[<matplotlib.lines.Line2D at 0x7f9a0bf3bdd0>]"
      ]
     },
     "execution_count": 3,
     "metadata": {},
     "output_type": "execute_result"
    },
    {
     "data": {
      "image/png": "[encoded data removed]",
      "text/plain": [
       "<Figure size 432x288 with 1 Axes>"
      ]
     },
     "metadata": {
      "needs_background": "light"
     },
     "output_type": "display_data"
    }
   ],
   "source": [
    "ax = plt.axes()\n",
    "\n",
    "depdelay.plot(kind='line', x='DEP_DELAY', y='arrival_delay', ax=ax, ylim=(0, 30), xlim=(0, 30), legend=False)\n",
    "\n",
    "ax.set_xlabel('Departure Delay (minutes)')\n",
    "ax.set_ylabel('> 30% prob of this Arrival Delay (minutes)')\n",
    "\n",
    "x = np.arange(0, 30)\n",
    "y = np.ones_like(x) * 15\n",
    "\n",
    "ax.plot(x, y, color='r')\n",
    "\n",
    "y = np.arange(0, 30)\n",
    "x = np.ones_like(y) * 16\n",
    "\n",
    "ax.plot(x, y, 'g.')"
   ]
  },
  {
   "cell_type": "markdown",
   "id": "47d081d4-0472-465e-a315-7a05df9a321a",
   "metadata": {},
   "source": [
    "Notice you get the same answer—16 minutes—after creating the empirical probabilistic model on just the training data. This is good.\n",
    "\n",
    "In the next secion, you test this model against the independent test data set."
   ]
  },
  {
   "cell_type": "markdown",
   "id": "fbb0ddde-ffc8-4bdb-9711-aeebf9f7d3bd",
   "metadata": {},
   "source": [
    "# Task 3. Evaluate the data model\n",
    "\n",
    "Evaluate how well your recommendation of 16 minutes does in terms of predicting an arrival delay of 15 minutes or more. To do that, find the number of times you would have wrongly canceled a meeting or missed a meeting. Compute these numbers using query on days that are not training days to compute these numbers:"
   ]
  },
  {
   "cell_type": "code",
   "execution_count": 4,
   "id": "55d4b85b-2044-4f5a-bc8a-4d74436bc7bf",
   "metadata": {},
   "outputs": [
    {
     "name": "stderr",
     "output_type": "stream",
     "text": [
      "Query complete after 0.00s: 100%|██████████| 3/3 [00:00<00:00, 1548.48query/s]                        \n",
      "Downloading: 100%|██████████| 1/1 [00:02<00:00,  2.21s/rows]\n"
     ]
    }
   ],
   "source": [
    "%%bigquery df_eval\n",
    "SELECT\n",
    "    SUM(IF(DEP_DELAY < 16 AND arr_delay < 15, 1, 0)) AS correct_nocancel,\n",
    "    SUM(IF(DEP_DELAY < 16 AND arr_delay >= 15, 1, 0)) AS wrong_nocancel,\n",
    "    SUM(IF(DEP_DELAY >= 16 AND arr_delay < 15, 1, 0)) AS wrong_cancel,\n",
    "    SUM(IF(DEP_DELAY >= 16 AND arr_delay >= 15, 1, 0)) AS correct_cancel\n",
    "FROM ( \n",
    "    SELECT DEP_DELAY, ARR_DELAY FROM dsongcp.flights_tzcorr\n",
    "    JOIN dsongcp.trainday USING(FL_DATE) WHERE is_train_day = 'False' \n",
    ")"
   ]
  },
  {
   "cell_type": "code",
   "execution_count": 5,
   "id": "b51f7b9a-4316-4e33-9ff9-6a4488962f26",
   "metadata": {},
   "outputs": [
    {
     "name": "stdout",
     "output_type": "stream",
     "text": [
      "0    0.950158\n",
      "dtype: float64\n",
      "0    0.804703\n",
      "dtype: float64\n"
     ]
    }
   ],
   "source": [
    "print(df_eval['correct_nocancel'] / (df_eval['correct_nocancel'] + df_eval['wrong_nocancel']))\n",
    "print(df_eval['correct_cancel'] / (df_eval['correct_cancel'] + df_eval['wrong_cancel']))"
   ]
  },
  {
   "cell_type": "code",
   "execution_count": 6,
   "id": "c8493474-a060-4170-ab67-d7fc85e45920",
   "metadata": {},
   "outputs": [
    {
     "data": {
      "text/html": [
       "<div>\n",
       "<style scoped>\n",
       "    .dataframe tbody tr th:only-of-type {\n",
       "        vertical-align: middle;\n",
       "    }\n",
       "\n",
       "    .dataframe tbody tr th {\n",
       "        vertical-align: top;\n",
       "    }\n",
       "\n",
       "    .dataframe thead th {\n",
       "        text-align: right;\n",
       "    }\n",
       "</style>\n",
       "<table border=\"1\" class=\"dataframe\">\n",
       "  <thead>\n",
       "    <tr style=\"text-align: right;\">\n",
       "      <th></th>\n",
       "      <th>correct_nocancel</th>\n",
       "      <th>wrong_nocancel</th>\n",
       "      <th>wrong_cancel</th>\n",
       "      <th>correct_cancel</th>\n",
       "    </tr>\n",
       "  </thead>\n",
       "  <tbody>\n",
       "    <tr>\n",
       "      <th>0</th>\n",
       "      <td>1259740</td>\n",
       "      <td>66081</td>\n",
       "      <td>52827</td>\n",
       "      <td>217669</td>\n",
       "    </tr>\n",
       "  </tbody>\n",
       "</table>\n",
       "</div>"
      ],
      "text/plain": [
       "   correct_nocancel  wrong_nocancel  wrong_cancel  correct_cancel\n",
       "0           1259740           66081         52827          217669"
      ]
     },
     "execution_count": 6,
     "metadata": {},
     "output_type": "execute_result"
    }
   ],
   "source": [
    "df_eval.head()"
   ]
  },
  {
   "cell_type": "markdown",
   "id": "20a42b83-bcbb-439e-8bec-ca6ba9a67692",
   "metadata": {},
   "source": [
    "Note that this query does not exclude the outlier data. You are evaluating real data against the model to see how well it performs in all situations.\n",
    "\n",
    "Now, we will create a query string that captures the contingency table that allows you to score the effectiveness of the model:"
   ]
  },
  {
   "cell_type": "code",
   "execution_count": 7,
   "id": "ead1f288-3b8b-4fb1-a646-8310abf3ddba",
   "metadata": {},
   "outputs": [
    {
     "name": "stderr",
     "output_type": "stream",
     "text": [
      "Query complete after 0.00s: 100%|██████████| 3/3 [00:00<00:00, 1370.54query/s]                        \n",
      "Downloading: 100%|██████████| 1/1 [00:02<00:00,  2.16s/rows]\n"
     ]
    }
   ],
   "source": [
    "%%bigquery df_eval\n",
    "SELECT\n",
    "    SUM(IF(DEP_DELAY = 15 AND arr_delay < 15, 1, 0)) AS correct_nocancel,\n",
    "    SUM(IF(DEP_DELAY = 15 AND arr_delay >= 15, 1, 0)) AS wrong_nocancel,\n",
    "    SUM(IF(DEP_DELAY = 16 AND arr_delay < 15, 1, 0)) AS wrong_cancel,\n",
    "    SUM(IF(DEP_DELAY = 16 AND arr_delay >= 15, 1, 0)) AS correct_cancel\n",
    "FROM (\n",
    "    SELECT DEP_DELAY, ARR_DELAY FROM dsongcp.flights_tzcorr\n",
    "    JOIN dsongcp.trainday USING(FL_DATE) WHERE is_train_day = 'False' \n",
    ")"
   ]
  },
  {
   "cell_type": "code",
   "execution_count": 8,
   "id": "a0bd0d48-95cf-453e-bcfa-a4d194ab34fe",
   "metadata": {},
   "outputs": [
    {
     "data": {
      "text/html": [
       "<div>\n",
       "<style scoped>\n",
       "    .dataframe tbody tr th:only-of-type {\n",
       "        vertical-align: middle;\n",
       "    }\n",
       "\n",
       "    .dataframe tbody tr th {\n",
       "        vertical-align: top;\n",
       "    }\n",
       "\n",
       "    .dataframe thead th {\n",
       "        text-align: right;\n",
       "    }\n",
       "</style>\n",
       "<table border=\"1\" class=\"dataframe\">\n",
       "  <thead>\n",
       "    <tr style=\"text-align: right;\">\n",
       "      <th></th>\n",
       "      <th>correct_nocancel</th>\n",
       "      <th>wrong_nocancel</th>\n",
       "      <th>wrong_cancel</th>\n",
       "      <th>correct_cancel</th>\n",
       "    </tr>\n",
       "  </thead>\n",
       "  <tbody>\n",
       "    <tr>\n",
       "      <th>0</th>\n",
       "      <td>7684</td>\n",
       "      <td>2935</td>\n",
       "      <td>6787</td>\n",
       "      <td>2942</td>\n",
       "    </tr>\n",
       "  </tbody>\n",
       "</table>\n",
       "</div>"
      ],
      "text/plain": [
       "   correct_nocancel  wrong_nocancel  wrong_cancel  correct_cancel\n",
       "0              7684            2935          6787            2942"
      ]
     },
     "execution_count": 8,
     "metadata": {},
     "output_type": "execute_result"
    }
   ],
   "source": [
    "df_eval.head()"
   ]
  },
  {
   "cell_type": "markdown",
   "id": "de150418-c1c2-4ece-9d9a-3db515ea683d",
   "metadata": {},
   "source": [
    "Display the ratio of correct to incorrect calls for the full evaluation dataset:"
   ]
  },
  {
   "cell_type": "code",
   "execution_count": 9,
   "id": "8c2f20ec-7a06-40e9-b881-24eeef882d5e",
   "metadata": {},
   "outputs": [
    {
     "name": "stdout",
     "output_type": "stream",
     "text": [
      "0    0.723609\n",
      "dtype: float64\n",
      "0    0.302395\n",
      "dtype: float64\n"
     ]
    }
   ],
   "source": [
    "print(df_eval['correct_nocancel'] / (df_eval['correct_nocancel'] + df_eval['wrong_nocancel']))\n",
    "print(df_eval['correct_cancel'] / (df_eval['correct_cancel'] + df_eval['wrong_cancel']))"
   ]
  },
  {
   "cell_type": "markdown",
   "id": "22f76cc5-4fbe-40bb-b69f-c125a9bf088b",
   "metadata": {},
   "source": [
    "As expected, you are correct to not cancel the meeting 72% of the time, close to our target of 70%. You chose the departure delay threshold of 16 minutes on the training dataset because you expected to be 70% correct in not canceling if you do so, you now proved on an independent dataset that this is the case.\n",
    "\n",
    "This model achieves the 70% correctness measure that was our target but does so by canceling fewer flights than the contingency-table-based model of Chapter 3."
   ]
  }
 ],
 "metadata": {
  "environment": {
   "kernel": "python3",
   "name": "tf2-gpu.2-6.m94",
   "type": "gcloud",
   "uri": "gcr.io/deeplearning-platform-release/tf2-gpu.2-6:m94"
  },
  "kernelspec": {
   "display_name": "Python 3",
   "language": "python",
   "name": "python3"
  },
  "language_info": {
   "codemirror_mode": {
    "name": "ipython",
    "version": 3
   },
   "file_extension": ".py",
   "mimetype": "text/x-python",
   "name": "python",
   "nbconvert_exporter": "python",
   "pygments_lexer": "ipython3",
   "version": "3.7.12"
  }
 },
 "nbformat": 4,
 "nbformat_minor": 5
}
