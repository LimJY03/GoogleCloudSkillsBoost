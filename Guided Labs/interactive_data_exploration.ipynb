{
 "cells": [
  {
   "cell_type": "markdown",
   "id": "0a3cbf25-e24f-435f-85b3-f87931437fea",
   "metadata": {},
   "source": [
    "# Interactive Data Exploration with Vertex AI Workbench\n",
    "\n",
    "In this lab you will learn the process of analyzing a dataset stored in BigQuery using Vertex AI Workbench to perform queries and present the data using various statistical plotting techniques. The analysis will help you discover patterns in the data that will allow you to predict probable arrival time delays given the initial flight details and actual departure time.\n",
    "\n",
    "Vertex AI Workbench is a powerful interactive tool created to explore, analyze, transform and visualize data and build machine learning models on Google Cloud. It runs on Compute Engine and connects easily to multiple cloud services so you can focus on your data science tasks.\n",
    "\n",
    "BigQuery is a RESTful web service that enables interactive analysis of massive datasets working in conjunction with Google Storage.\n",
    "\n",
    "The dataset that is used provides historic information about internal flights in the United States retrieved from the US Bureau of Transport Statistics website. This dataset can be used to demonstrate a wide range of data science concepts and techniques.\n",
    "\n",
    "## Objectives\n",
    "\n",
    "* Create a Notebook instance.\n",
    "* Use Pandas and Seaborn to visualize Bigquery data.\n",
    "* Iterate through the analysis process to refine the relationship between departure delays and arrival delays.\n",
    "\n",
    "You can access the lab at [here](https://www.cloudskillsboost.google/focuses/1162?parent=catalog).\n",
    "\n",
    "# Task 1. Exploratory data analysis in Vertex AI Workbench"
   ]
  },
  {
   "cell_type": "markdown",
   "id": "c365b5a1-33cb-4445-bcab-3e94399db3c9",
   "metadata": {},
   "source": [
    " ## Import Modules\n",
    " \n",
    " Import the necessary modules and initialize a BigQuery client. \n",
    " \n",
    " The BigQuery client will be used to send and receive messages from the BigQuery API."
   ]
  },
  {
   "cell_type": "code",
   "execution_count": 1,
   "id": "62602d0e-5ec4-41ac-b130-d2c321f926b5",
   "metadata": {},
   "outputs": [],
   "source": [
    "import matplotlib.pyplot as plt\n",
    "import seaborn as sns\n",
    "import pandas as pd\n",
    "import numpy as np\n",
    "from google.cloud import bigquery\n",
    "bq = bigquery.Client()"
   ]
  },
  {
   "cell_type": "markdown",
   "id": "c9925947-182a-495c-8e62-ae53369eb0cc",
   "metadata": {},
   "source": [
    "## Jupyter Magic\n",
    "\n",
    "Jupyter magics provide a mechanism to run a wide variety of languages, and ways to add some more. The BigQuery Python package has added a few magics to make the interaction with Google Cloud Platform convenient.\n",
    "\n",
    "For example, you can run a query on your BigQuery table using the `%%bigquery` magic environment that comes with Vertex AI Workbench."
   ]
  },
  {
   "cell_type": "code",
   "execution_count": 2,
   "id": "79f20db5-8874-4df9-9bf4-75a31638b155",
   "metadata": {},
   "outputs": [
    {
     "name": "stderr",
     "output_type": "stream",
     "text": [
      "Query complete after 0.00s: 100%|██████████| 1/1 [00:00<00:00, 939.58query/s] \n",
      "Downloading: 100%|██████████| 1/1 [00:01<00:00,  1.38s/rows]\n"
     ]
    },
    {
     "data": {
      "text/html": [
       "<div>\n",
       "<style scoped>\n",
       "    .dataframe tbody tr th:only-of-type {\n",
       "        vertical-align: middle;\n",
       "    }\n",
       "\n",
       "    .dataframe tbody tr th {\n",
       "        vertical-align: top;\n",
       "    }\n",
       "\n",
       "    .dataframe thead th {\n",
       "        text-align: right;\n",
       "    }\n",
       "</style>\n",
       "<table border=\"1\" class=\"dataframe\">\n",
       "  <thead>\n",
       "    <tr style=\"text-align: right;\">\n",
       "      <th></th>\n",
       "      <th>frac_delayed</th>\n",
       "    </tr>\n",
       "  </thead>\n",
       "  <tbody>\n",
       "    <tr>\n",
       "      <th>0</th>\n",
       "      <td>0.186111</td>\n",
       "    </tr>\n",
       "  </tbody>\n",
       "</table>\n",
       "</div>"
      ],
      "text/plain": [
       "   frac_delayed\n",
       "0      0.186111"
      ]
     },
     "execution_count": 2,
     "metadata": {},
     "output_type": "execute_result"
    }
   ],
   "source": [
    "%%bigquery\n",
    "SELECT COUNTIF(arr_delay >= 15) / COUNT(arr_delay) AS frac_delayed FROM dsongcp.flights_tzcorr"
   ]
  },
  {
   "cell_type": "markdown",
   "id": "91ce778d-f709-47a5-b458-0952e75128dd",
   "metadata": {},
   "source": [
    "## Calls to BigQuery\n",
    "\n",
    "You can also query BigQuery directly with the `Python` library."
   ]
  },
  {
   "cell_type": "code",
   "execution_count": 3,
   "id": "bd9920c2-f610-4e62-aba6-05624fa52d4e",
   "metadata": {},
   "outputs": [
    {
     "data": {
      "text/html": [
       "<div>\n",
       "<style scoped>\n",
       "    .dataframe tbody tr th:only-of-type {\n",
       "        vertical-align: middle;\n",
       "    }\n",
       "\n",
       "    .dataframe tbody tr th {\n",
       "        vertical-align: top;\n",
       "    }\n",
       "\n",
       "    .dataframe thead th {\n",
       "        text-align: right;\n",
       "    }\n",
       "</style>\n",
       "<table border=\"1\" class=\"dataframe\">\n",
       "  <thead>\n",
       "    <tr style=\"text-align: right;\">\n",
       "      <th></th>\n",
       "      <th>frac_delayed</th>\n",
       "    </tr>\n",
       "  </thead>\n",
       "  <tbody>\n",
       "    <tr>\n",
       "      <th>0</th>\n",
       "      <td>0.186111</td>\n",
       "    </tr>\n",
       "  </tbody>\n",
       "</table>\n",
       "</div>"
      ],
      "text/plain": [
       "   frac_delayed\n",
       "0      0.186111"
      ]
     },
     "execution_count": 3,
     "metadata": {},
     "output_type": "execute_result"
    }
   ],
   "source": [
    "sql = 'SELECT COUNTIF(arr_delay >= 15) / COUNT(arr_delay) AS frac_delayed FROM dsongcp.flights_tzcorr'\n",
    "bq.query(sql).to_dataframe()"
   ]
  },
  {
   "cell_type": "markdown",
   "id": "4d6fef56-a62c-4dbe-b5e4-9a1e05ec5ad1",
   "metadata": {},
   "source": [
    "# Basic Statistics\n",
    "\n",
    "For a high-level view, draw a Probability Distribution Function (PDF) of different arrival delays. In a Notebook, assign the output of a cell magic query to a variable, in this case `df`:"
   ]
  },
  {
   "cell_type": "code",
   "execution_count": 4,
   "id": "e6c28ae2-26e0-4bd0-bf93-4e28d18ca23d",
   "metadata": {},
   "outputs": [
    {
     "name": "stderr",
     "output_type": "stream",
     "text": [
      "Query complete after 0.00s: 100%|██████████| 1/1 [00:00<00:00, 758.88query/s] \n",
      "Downloading: 100%|██████████| 1294778/1294778 [00:01<00:00, 838767.13rows/s]\n"
     ]
    }
   ],
   "source": [
    "%%bigquery df\n",
    "SELECT ARR_DELAY, DEP_DELAY FROM dsongcp.flights_tzcorr WHERE DEP_DELAY >= 10"
   ]
  },
  {
   "cell_type": "code",
   "execution_count": 5,
   "id": "537f6510-b048-49f9-9983-04e61150760d",
   "metadata": {},
   "outputs": [
    {
     "data": {
      "text/html": [
       "<div>\n",
       "<style scoped>\n",
       "    .dataframe tbody tr th:only-of-type {\n",
       "        vertical-align: middle;\n",
       "    }\n",
       "\n",
       "    .dataframe tbody tr th {\n",
       "        vertical-align: top;\n",
       "    }\n",
       "\n",
       "    .dataframe thead th {\n",
       "        text-align: right;\n",
       "    }\n",
       "</style>\n",
       "<table border=\"1\" class=\"dataframe\">\n",
       "  <thead>\n",
       "    <tr style=\"text-align: right;\">\n",
       "      <th></th>\n",
       "      <th>ARR_DELAY</th>\n",
       "      <th>DEP_DELAY</th>\n",
       "    </tr>\n",
       "  </thead>\n",
       "  <tbody>\n",
       "    <tr>\n",
       "      <th>count</th>\n",
       "      <td>1.286778e+06</td>\n",
       "      <td>1.294778e+06</td>\n",
       "    </tr>\n",
       "    <tr>\n",
       "      <th>mean</th>\n",
       "      <td>4.611797e+01</td>\n",
       "      <td>5.094516e+01</td>\n",
       "    </tr>\n",
       "    <tr>\n",
       "      <th>std</th>\n",
       "      <td>6.360700e+01</td>\n",
       "      <td>6.151423e+01</td>\n",
       "    </tr>\n",
       "    <tr>\n",
       "      <th>min</th>\n",
       "      <td>-7.800000e+01</td>\n",
       "      <td>1.000000e+01</td>\n",
       "    </tr>\n",
       "    <tr>\n",
       "      <th>25%</th>\n",
       "      <td>1.100000e+01</td>\n",
       "      <td>1.700000e+01</td>\n",
       "    </tr>\n",
       "    <tr>\n",
       "      <th>50%</th>\n",
       "      <td>2.700000e+01</td>\n",
       "      <td>3.000000e+01</td>\n",
       "    </tr>\n",
       "    <tr>\n",
       "      <th>75%</th>\n",
       "      <td>5.900000e+01</td>\n",
       "      <td>6.100000e+01</td>\n",
       "    </tr>\n",
       "    <tr>\n",
       "      <th>max</th>\n",
       "      <td>1.971000e+03</td>\n",
       "      <td>1.988000e+03</td>\n",
       "    </tr>\n",
       "  </tbody>\n",
       "</table>\n",
       "</div>"
      ],
      "text/plain": [
       "          ARR_DELAY     DEP_DELAY\n",
       "count  1.286778e+06  1.294778e+06\n",
       "mean   4.611797e+01  5.094516e+01\n",
       "std    6.360700e+01  6.151423e+01\n",
       "min   -7.800000e+01  1.000000e+01\n",
       "25%    1.100000e+01  1.700000e+01\n",
       "50%    2.700000e+01  3.000000e+01\n",
       "75%    5.900000e+01  6.100000e+01\n",
       "max    1.971000e+03  1.988000e+03"
      ]
     },
     "execution_count": 5,
     "metadata": {},
     "output_type": "execute_result"
    }
   ],
   "source": [
    "type(df)\n",
    "df.describe()"
   ]
  },
  {
   "cell_type": "markdown",
   "id": "7ca7b961-d9b3-4cc3-8d1d-dceaa545f5c8",
   "metadata": {},
   "source": [
    "The `DataFrame.describe()` function reports the core statistics for the DataFrame returned by the query."
   ]
  },
  {
   "cell_type": "markdown",
   "id": "be326e77-fbb0-42f4-9d81-6d2976c7fade",
   "metadata": {},
   "source": [
    "## Plotting Distributions\n",
    "\n",
    "Beyond just the statistical capabilities of Pandas, you can also pass Pandas dataframes and underlying numpy arrays to plotting libraries like seaborn.\n",
    "\n",
    "Now we will display a Seaborn violin chart. This shows the distribution dataframe that contains the sample of the arrival delay for flights that depart more than 10 minutes late:"
   ]
  },
  {
   "cell_type": "code",
   "execution_count": 6,
   "id": "772d1b86-e8ff-410d-aca7-8b33d281dc32",
   "metadata": {},
   "outputs": [
    {
     "data": {
      "text/plain": [
       "(-50.0, 300.0)"
      ]
     },
     "execution_count": 6,
     "metadata": {},
     "output_type": "execute_result"
    },
    {
     "data": {
      "image/png": "[encoded data removed]",
      "text/plain": [
       "<Figure size 432x288 with 1 Axes>"
      ]
     },
     "metadata": {},
     "output_type": "display_data"
    }
   ],
   "source": [
    "sns.set_style(\"whitegrid\")\n",
    "ax = sns.violinplot(data=df, x='ARR_DELAY', inner='box', orient='h')\n",
    "ax.axes.set_xlim(-50, 300)"
   ]
  },
  {
   "cell_type": "markdown",
   "id": "f6a84a09-96a8-40f1-9177-12d4e3ead7ad",
   "metadata": {},
   "source": [
    "A violin plot is a kernel density plot, which is an estimate of the PDF. Notice that even though the distribution peaks around 10 minutes, deviations around this peak are skewed toward larger delays, rather than the smaller ones. Also, there is only one peak—the distribution.\n",
    "\n",
    "Run a query comparing the violin plot for flights that depart more than 10 minutes late with the violin plot for flights that depart less than 10 minutes late. Zoom in on the *x*-axis close to your 15-minute threshold."
   ]
  },
  {
   "cell_type": "code",
   "execution_count": 7,
   "id": "a83c01a9-018f-4991-9a9f-9086aa2369be",
   "metadata": {},
   "outputs": [
    {
     "name": "stderr",
     "output_type": "stream",
     "text": [
      "Query complete after 0.00s: 100%|██████████| 1/1 [00:00<00:00, 671.73query/s] \n",
      "Downloading: 100%|██████████| 5819079/5819079 [00:02<00:00, 2000344.74rows/s]\n"
     ]
    }
   ],
   "source": [
    "%%bigquery df\n",
    "SELECT ARR_DELAY, DEP_DELAY FROM dsongcp.flights_tzcorr"
   ]
  },
  {
   "cell_type": "markdown",
   "id": "e61da080-abc5-4421-8c5f-caf44cca3682",
   "metadata": {},
   "source": [
    "Create a new column in the Pandas dataframe that is either `True` or `False`, depending on whether the flight departed less than 10 minutes late:"
   ]
  },
  {
   "cell_type": "code",
   "execution_count": 8,
   "id": "d1aae100-0adf-41d7-b256-31522586d38d",
   "metadata": {},
   "outputs": [
    {
     "data": {
      "text/html": [
       "<div>\n",
       "<style scoped>\n",
       "    .dataframe tbody tr th:only-of-type {\n",
       "        vertical-align: middle;\n",
       "    }\n",
       "\n",
       "    .dataframe tbody tr th {\n",
       "        vertical-align: top;\n",
       "    }\n",
       "\n",
       "    .dataframe thead th {\n",
       "        text-align: right;\n",
       "    }\n",
       "</style>\n",
       "<table border=\"1\" class=\"dataframe\">\n",
       "  <thead>\n",
       "    <tr style=\"text-align: right;\">\n",
       "      <th></th>\n",
       "      <th>ARR_DELAY</th>\n",
       "      <th>DEP_DELAY</th>\n",
       "      <th>ontime</th>\n",
       "    </tr>\n",
       "  </thead>\n",
       "  <tbody>\n",
       "    <tr>\n",
       "      <th>0</th>\n",
       "      <td>45.0</td>\n",
       "      <td>39.0</td>\n",
       "      <td>False</td>\n",
       "    </tr>\n",
       "    <tr>\n",
       "      <th>1</th>\n",
       "      <td>42.0</td>\n",
       "      <td>52.0</td>\n",
       "      <td>False</td>\n",
       "    </tr>\n",
       "    <tr>\n",
       "      <th>2</th>\n",
       "      <td>42.0</td>\n",
       "      <td>44.0</td>\n",
       "      <td>False</td>\n",
       "    </tr>\n",
       "    <tr>\n",
       "      <th>3</th>\n",
       "      <td>39.0</td>\n",
       "      <td>52.0</td>\n",
       "      <td>False</td>\n",
       "    </tr>\n",
       "    <tr>\n",
       "      <th>4</th>\n",
       "      <td>23.0</td>\n",
       "      <td>21.0</td>\n",
       "      <td>False</td>\n",
       "    </tr>\n",
       "  </tbody>\n",
       "</table>\n",
       "</div>"
      ],
      "text/plain": [
       "   ARR_DELAY  DEP_DELAY  ontime\n",
       "0       45.0       39.0   False\n",
       "1       42.0       52.0   False\n",
       "2       42.0       44.0   False\n",
       "3       39.0       52.0   False\n",
       "4       23.0       21.0   False"
      ]
     },
     "execution_count": 8,
     "metadata": {},
     "output_type": "execute_result"
    }
   ],
   "source": [
    "df['ontime'] = df['DEP_DELAY'] < 10\n",
    "df[df['ARR_DELAY'] > 0].head()"
   ]
  },
  {
   "cell_type": "markdown",
   "id": "1e417c7a-9f01-4794-8aa5-5bf6c44b6adb",
   "metadata": {},
   "source": [
    "Use a seaborn to graph this new Pandas dataframe:"
   ]
  },
  {
   "cell_type": "code",
   "execution_count": 9,
   "id": "1b0e1227-ef36-4663-b0e2-2f51915469fd",
   "metadata": {},
   "outputs": [
    {
     "data": {
      "text/plain": [
       "(-50.0, 200.0)"
      ]
     },
     "execution_count": 9,
     "metadata": {},
     "output_type": "execute_result"
    },
    {
     "data": {
      "image/png": "[encoded data removed]",
      "text/plain": [
       "<Figure size 432x288 with 1 Axes>"
      ]
     },
     "metadata": {},
     "output_type": "display_data"
    }
   ],
   "source": [
    "sns.set_style(\"whitegrid\")\n",
    "ax = sns.violinplot(data=df, x='ARR_DELAY', y='ontime', inner='box', orient='h')\n",
    "ax.set_xlim(-50, 200)"
   ]
  },
  {
   "cell_type": "markdown",
   "id": "ce07456e-b102-42ea-b84a-a4c30e53d51e",
   "metadata": {},
   "source": [
    "The angular peak of the top violin plot indicates that the seaborn default smoothing was too coarse. Fix this by passing in a gridsize parameter. Note that the computation will take longer."
   ]
  },
  {
   "cell_type": "code",
   "execution_count": 10,
   "id": "1fe6e93f-cca2-4691-ae3a-1166be2acba2",
   "metadata": {},
   "outputs": [
    {
     "data": {
      "text/plain": [
       "(-50.0, 200.0)"
      ]
     },
     "execution_count": 10,
     "metadata": {},
     "output_type": "execute_result"
    },
    {
     "data": {
      "image/png": "[encoded data removed]",
      "text/plain": [
       "<Figure size 432x288 with 1 Axes>"
      ]
     },
     "metadata": {},
     "output_type": "display_data"
    }
   ],
   "source": [
    "ax = sns.violinplot(data=df, x='ARR_DELAY', y='ontime', inner='box', orient='h', gridsize=1000)\n",
    "ax.set_xlim(-50, 200)"
   ]
  },
  {
   "cell_type": "markdown",
   "id": "3bee4e5e-c891-4926-b55c-cc8596289ac0",
   "metadata": {},
   "source": [
    "This violin plot shows that the 10 minute departure delay threshold divides the dataset into two datasets, shown by the box plots in the center of these two distributions. Flights that depart 10 or more minutes late are asymmetrically distributed towards longer delay times. Flights that depart less than 10 minutes late are centered around the peak arrival time.\n",
    "\n",
    "The long tail is a red flag. Further analyze the data to better understand what is really happening. In the next task, you use BigQuery to take a closer look at the range of delay times."
   ]
  },
  {
   "cell_type": "markdown",
   "id": "1448164e-16c5-451c-bc91-3dc587134f06",
   "metadata": {},
   "source": [
    "# Task 2. Quality Control\n",
    "\n",
    "Although you could continue writing queries in the notebook, using BigQuery to query provides immediate feedback on syntax and logic errors.\n",
    "\n",
    "In BigQuery, we will run the code below to obtain the average departure delay.\n",
    "\n",
    "```sql\n",
    "SELECT AVG(ARR_DELAY) AS arrival_delay FROM `dsongcp.flights_tzcorr` \n",
    "GROUP BY DEP_DELAY ORDER BY DEP_DELAY\n",
    "```\n",
    "\n",
    "Are the delays that span up to 20 hours significant? Yes because there are > 1100 \n",
    "\n",
    "To refine the query and add some more data:\n",
    "\n",
    "```sql\n",
    "SELECT DEP_DELAY, AVG(ARR_DELAY) AS arrival_delay, COUNT(ARR_DELAY) AS numflights FROM `dsongcp.flights_tzcorr`\n",
    "GROUP BY DEP_DELAY ORDER BY DEP_DELAY\n",
    "```\n",
    "\n",
    "The resulting table explains what’s going on. The first few rows have only a few flights each:\n",
    "\n",
    "![](https://cdn.qwiklabs.com/txasgjSvHIWaBOGPIcxZ4capcmObERGqfFXI%2BgNqNlg%3D)\n",
    "\n",
    "If you page ahead in the data, you see departure delay values of a few minutes have hundreds of thousands of flights:\n",
    "\n",
    "![](https://cdn.qwiklabs.com/oBaz4eZi%2BZfj9carqUiUBfkkzYwzu2ykbfDB8PnmKzE%3D)\n",
    "\n",
    "However, a delay of a few minutes is so small and can be considered insignificant. There is no reason to complicate our statistical modeling with insignificant values.\n",
    "\n",
    "To eliminate these values from the dataset, filter the dataset so that you view only delay values within a particular range. For a dataset of a few hundred thousand examples, use a standard deviation range to focus on the you're interested in.\n",
    "\n",
    "To apply a filter based on values within three times the standard deviation of the average value for departure delays:\n",
    "\n",
    "```sql\n",
    "SELECT \n",
    "    AVG(DEP_DELAY) - 3 * STDDEV(DEP_DELAY) AS filtermin, \n",
    "    AVG(DEP_DELAY) + 3 * STDDEV(DEP_DELAY) AS filtermax \n",
    "FROM `dsongcp.flights_tzcorr`\n",
    "```\n",
    "\n",
    "This yields a range of `-102` to `+121`. The query is still making some assumptions about the data values themselves and extreme outlier values can distort these calculations, even with hundreds of thousands of examples.\n",
    "\n",
    "To avoid such an assumption, query using percentiles, omitting the top and bottom 5% of values:\n",
    "\n",
    "```sql\n",
    "SELECT APPROX_QUANTILES(DEP_DELAY, 20) FROM `dsongcp.flights_tzcorr`\n",
    "```\n",
    "\n",
    "This leads you to retain values in the range \\[−9, 66\\]. Regardless of how we find the range, though, the range is based on an assumption that unusually high and low values are outliers.\n",
    "\n",
    "On datasets that number in the hundreds of thousands to millions of examples, thresholding your input data based on value is dangerous because you may be throwing out valuable nuance if there are sufficient examples of a delay of 150 minutes. It is worth modeling such a value regardless of how far off the mean it is.\n",
    "\n",
    "To address this, use a filter that ensures that if there is a statistically significant number of flights with a specific delay, then it's' included, regardless of the actual delay value. For datasets of this size, you can use a filter that selects only values that have 370 or more examples. 370 examples is the sample size required to cover three standard deviations in a dataset with a normal distribution. A filter that selects only data points where you have at least 370 examples ensures that you have enough samples at each datapoint to satisfy the [three sigma rule](https://www.encyclopediaofmath.org/index.php/Three-sigma_rule). This gives you enough data to make reasonably robust predictions about each individual delay value.\n",
    "\n",
    "```sql\n",
    "SELECT\n",
    "  DEP_DELAY,\n",
    "  AVG(ARR_DELAY) AS arrival_delay,\n",
    "  STDDEV(ARR_DELAY) AS stddev_arrival_delay,\n",
    "  COUNT(ARR_DELAY) AS numflights\n",
    "FROM `dsongcp.flights_tzcorr`\n",
    "GROUP BY DEP_DELAY HAVING numflights > 370 ORDER BY DEP_DELAY\n",
    "```\n",
    "\n",
    "The output of the query is as shown in the image below.\n",
    "\n",
    "![](https://media.discordapp.net/attachments/984655726406402088/993074177005342782/unknown.png?width=1440&height=435)"
   ]
  },
  {
   "cell_type": "markdown",
   "id": "3a862342-2b09-4e00-8ebd-1edb2ca3ad62",
   "metadata": {},
   "source": [
    "## Filtering Data On Occurrence Frequency\n",
    "\n",
    "How different would the results be if you choose a different threshold? Look at the number of flights that are removed by different quality-control thresholds by looking at the slope of a linear model between arrival delay and departure delay.\n",
    "\n",
    "We will now visualize this threshold data."
   ]
  },
  {
   "cell_type": "code",
   "execution_count": 11,
   "id": "41efbbd0-deaa-44e4-a439-9129a54de013",
   "metadata": {},
   "outputs": [
    {
     "name": "stderr",
     "output_type": "stream",
     "text": [
      "Query complete after 0.00s: 100%|██████████| 1/1 [00:00<00:00, 686.13query/s] \n",
      "Downloading: 100%|██████████| 9/9 [00:03<00:00,  2.64rows/s]\n"
     ]
    }
   ],
   "source": [
    "%%bigquery df\n",
    "DECLARE total_flights INT64;\n",
    "SET total_flights = (SELECT COUNT(*) FROM dsongcp.flights_tzcorr);\n",
    "\n",
    "CREATE TEMPORARY FUNCTION linear_fit(NUM_TOTAL INT64, THRESH INT64)\n",
    "RETURNS STRUCT<thresh INT64, num_removed INT64, lm FLOAT64> AS ((\n",
    "    \n",
    "    SELECT AS STRUCT \n",
    "        THRESH, \n",
    "        (NUM_TOTAL - SUM(numflights)) AS num_removed, \n",
    "        ROUND(AVG(arrival_delay * numflights) / AVG(dep_delay * numflights), 2\n",
    "    ) AS lm \n",
    "    \n",
    "    FROM (\n",
    "    SELECT \n",
    "        DEP_DELAY,\n",
    "        AVG(ARR_DELAY) AS arrival_delay,\n",
    "        STDDEV(ARR_DELAY) AS stddev_arrival_delay,\n",
    "        COUNT(ARR_DELAY) AS numflights\n",
    "    FROM dsongcp.flights_tzcorr GROUP BY DEP_DELAY\n",
    "    )\n",
    "    \n",
    "    WHERE numflights > THRESH\n",
    "));\n",
    "\n",
    "SELECT linear_fit(total_flights, 1000) stats\n",
    "UNION ALL SELECT linear_fit(total_flights, 500)\n",
    "UNION ALL SELECT linear_fit(total_flights, 370)\n",
    "UNION ALL SELECT linear_fit(total_flights, 300)\n",
    "UNION ALL SELECT linear_fit(total_flights, 200)\n",
    "UNION ALL SELECT linear_fit(total_flights, 100)\n",
    "UNION ALL SELECT linear_fit(total_flights, 22)\n",
    "UNION ALL SELECT linear_fit(total_flights, 10)\n",
    "UNION ALL SELECT linear_fit(total_flights, 5)\n",
    "ORDER BY stats.thresh DESC"
   ]
  },
  {
   "cell_type": "code",
   "execution_count": 12,
   "id": "bfb397ed-0b3e-41f6-a233-0ac0750859fc",
   "metadata": {},
   "outputs": [
    {
     "data": {
      "text/plain": [
       "0    (1000, 175873, 0.25)\n",
       "1     (500, 143801, 0.34)\n",
       "2     (370, 135518, 0.36)\n",
       "3     (300, 129835, 0.38)\n",
       "4      (200, 123640, 0.4)\n",
       "5     (100, 115471, 0.43)\n",
       "6      (22, 108247, 0.45)\n",
       "7      (10, 106958, 0.46)\n",
       "8       (5, 106319, 0.46)\n",
       "Name: stats, dtype: object"
      ]
     },
     "execution_count": 12,
     "metadata": {},
     "output_type": "execute_result"
    }
   ],
   "source": [
    "df['stats'].map(lambda x: (x['thresh'], x['num_removed'], x['lm']))"
   ]
  },
  {
   "cell_type": "markdown",
   "id": "5e7c89dc-519f-4695-8bd5-e39b42f620a1",
   "metadata": {},
   "source": [
    "As you remove fewer and fewer flights by decreasing the threshold. As you remove fewer and fewer flights by decreasing the threshold, the slope slowly changes. Thus, the differences in the model created for thresholds of 300, 370, or 500 are quite minor. However, that model is quite different from that created if the threshold were 5 or 10. The order of magnitude of the threshold matters, but perhaps not the exact value."
   ]
  },
  {
   "cell_type": "markdown",
   "id": "d08d87f6-cf29-442f-adfa-9fc903463309",
   "metadata": {},
   "source": [
    "# Task 3. Distribution Of Arrival Delays\n",
    "\n",
    "Create a variable with the BigQuery query based on the threshold level of 370 flights:"
   ]
  },
  {
   "cell_type": "code",
   "execution_count": 13,
   "id": "38634e48-1f7d-4bcd-90db-fd7f13d22036",
   "metadata": {},
   "outputs": [
    {
     "name": "stderr",
     "output_type": "stream",
     "text": [
      "Query complete after 0.00s: 100%|██████████| 1/1 [00:00<00:00, 768.89query/s] \n",
      "Downloading: 100%|██████████| 240/240 [00:01<00:00, 200.37rows/s]\n"
     ]
    }
   ],
   "source": [
    "%%bigquery depdelay\n",
    "SELECT\n",
    "    DEP_DELAY,\n",
    "    AVG(ARR_DELAY) AS arrival_delay,\n",
    "    STDDEV(ARR_DELAY) AS stddev_arrival_delay,\n",
    "    COUNT(ARR_DELAY) AS numflights\n",
    "FROM dsongcp.flights_tzcorr\n",
    "GROUP BY DEP_DELAY HAVING numflights > 370 ORDER BY DEP_DELAY"
   ]
  },
  {
   "cell_type": "code",
   "execution_count": 14,
   "id": "b6513f84-4ed2-459c-be96-d2f445282097",
   "metadata": {},
   "outputs": [
    {
     "data": {
      "text/html": [
       "<div>\n",
       "<style scoped>\n",
       "    .dataframe tbody tr th:only-of-type {\n",
       "        vertical-align: middle;\n",
       "    }\n",
       "\n",
       "    .dataframe tbody tr th {\n",
       "        vertical-align: top;\n",
       "    }\n",
       "\n",
       "    .dataframe thead th {\n",
       "        text-align: right;\n",
       "    }\n",
       "</style>\n",
       "<table border=\"1\" class=\"dataframe\">\n",
       "  <thead>\n",
       "    <tr style=\"text-align: right;\">\n",
       "      <th></th>\n",
       "      <th>DEP_DELAY</th>\n",
       "      <th>arrival_delay</th>\n",
       "      <th>stddev_arrival_delay</th>\n",
       "      <th>numflights</th>\n",
       "    </tr>\n",
       "  </thead>\n",
       "  <tbody>\n",
       "    <tr>\n",
       "      <th>0</th>\n",
       "      <td>-23.0</td>\n",
       "      <td>-23.888646</td>\n",
       "      <td>11.432163</td>\n",
       "      <td>458</td>\n",
       "    </tr>\n",
       "    <tr>\n",
       "      <th>1</th>\n",
       "      <td>-22.0</td>\n",
       "      <td>-23.227488</td>\n",
       "      <td>12.590133</td>\n",
       "      <td>633</td>\n",
       "    </tr>\n",
       "    <tr>\n",
       "      <th>2</th>\n",
       "      <td>-21.0</td>\n",
       "      <td>-22.299781</td>\n",
       "      <td>11.558313</td>\n",
       "      <td>914</td>\n",
       "    </tr>\n",
       "    <tr>\n",
       "      <th>3</th>\n",
       "      <td>-20.0</td>\n",
       "      <td>-21.407821</td>\n",
       "      <td>12.066489</td>\n",
       "      <td>1432</td>\n",
       "    </tr>\n",
       "    <tr>\n",
       "      <th>4</th>\n",
       "      <td>-19.0</td>\n",
       "      <td>-20.430769</td>\n",
       "      <td>11.910134</td>\n",
       "      <td>1950</td>\n",
       "    </tr>\n",
       "  </tbody>\n",
       "</table>\n",
       "</div>"
      ],
      "text/plain": [
       "   DEP_DELAY  arrival_delay  stddev_arrival_delay  numflights\n",
       "0      -23.0     -23.888646             11.432163         458\n",
       "1      -22.0     -23.227488             12.590133         633\n",
       "2      -21.0     -22.299781             11.558313         914\n",
       "3      -20.0     -21.407821             12.066489        1432\n",
       "4      -19.0     -20.430769             11.910134        1950"
      ]
     },
     "execution_count": 14,
     "metadata": {},
     "output_type": "execute_result"
    }
   ],
   "source": [
    "depdelay[:5]"
   ]
  },
  {
   "cell_type": "markdown",
   "id": "415dc5b3-fd51-436d-8b7e-36f9898ac06b",
   "metadata": {},
   "source": [
    "This provides the first five rows of the Pandas dataframe.\n",
    "\n",
    "Plot this data to see what insight you can gain. Even though you've been using seaborn, Pandas has built-in plotting functions\n",
    "\n",
    "Plot average arrival delay and the standard deviation for each delay:"
   ]
  },
  {
   "cell_type": "code",
   "execution_count": 15,
   "id": "26af1537-76a4-4eb5-9264-205f273ea35e",
   "metadata": {},
   "outputs": [
    {
     "data": {
      "image/png": "[encoded data removed]",
      "text/plain": [
       "<Figure size 432x288 with 1 Axes>"
      ]
     },
     "metadata": {},
     "output_type": "display_data"
    }
   ],
   "source": [
    "ax = depdelay.plot(\n",
    "    kind='line',\n",
    "    x='DEP_DELAY',\n",
    "    y='arrival_delay',\n",
    "    yerr='stddev_arrival_delay'\n",
    ")"
   ]
  },
  {
   "cell_type": "markdown",
   "id": "5de18e29-c530-4c2e-97da-5b12a0a21df5",
   "metadata": {},
   "source": [
    "It looks like the relationship between departure delay and arrival delay is linear. The width of the standard deviation of the arrival delay is also constant, on the order of 10 minutes."
   ]
  },
  {
   "cell_type": "markdown",
   "id": "a3ad35ac-e6a8-4e2a-bb36-9c40ae35b2c1",
   "metadata": {},
   "source": [
    "# Task 4. Applying a Probabilistic Decision Threshold\n",
    "\n",
    "The purpose of all of this analysis has been to develop a model that allows you to predict whether a flight that has departed will arrive late. Specifically, a model that predicts whether a given flight has more than a 30% probability of arriving 15 or more minutes late.\n",
    "\n",
    "Assume, in this case, the arrival delay distributions are normal. Based on that assumption you can use a [complementary cumulative distribution table](https://en.wikipedia.org/wiki/Standard_normal_table#Complementary_cumulative) to establish the *Z* value at which the probability is 30%. This turns out to be 0.52.\n",
    "\n",
    "![](https://cdn.qwiklabs.com/GktUaBnFopr8KC4sTsZGjVp6DDZ3t%2BmYVyTEHK%2FE0iw%3D)\n",
    "\n",
    "Use Pandas to plot the intersection of the 15 minute delay line with the 30% arrival delay probability line:"
   ]
  },
  {
   "cell_type": "code",
   "execution_count": 16,
   "id": "065c9c08-aff0-4829-ab5d-116c27ec456b",
   "metadata": {},
   "outputs": [
    {
     "data": {
      "image/png": "[encoded data removed]",
      "text/plain": [
       "<Figure size 432x288 with 1 Axes>"
      ]
     },
     "metadata": {},
     "output_type": "display_data"
    }
   ],
   "source": [
    "Z_30 = 0.52\n",
    "depdelay['arr_delay_30'] = (Z_30 * depdelay['stddev_arrival_delay']) + depdelay['arrival_delay']\n",
    "\n",
    "ax = plt.axes()\n",
    "depdelay.plot(kind='line', x='DEP_DELAY', y='arr_delay_30', ax=ax, ylim=(0,30), xlim=(0,30), legend=False)\n",
    "\n",
    "ax.set_xlabel('Departure Delay (minutes)')\n",
    "ax.set_ylabel('> 30% prob of this Arrival Delay (minutes)')\n",
    "\n",
    "x = np.arange(0, 30)\n",
    "y = np.ones_like(x) * 15\n",
    "\n",
    "ax.plot(x, y, color='r')\n",
    "\n",
    "y = np.arange(0, 30)\n",
    "x = np.ones_like(y) * 13\n",
    "\n",
    "ax.plot(x, y, 'g.');"
   ]
  },
  {
   "cell_type": "markdown",
   "id": "2778ad5b-e477-44e8-b5fa-1600b2df9e0c",
   "metadata": {},
   "source": [
    "Your decision criterion translates to a departure delay of 13 minutes. If the departure delay is 13 minutes or more, the aircraft is more than 30% likely to be delayed by 15 minutes or more."
   ]
  },
  {
   "cell_type": "markdown",
   "id": "f50bc825-6535-49c0-8372-b31c05e5e050",
   "metadata": {},
   "source": [
    "# Task 5. Deriving The Probability Distribution Function From The Data Itself\n",
    "\n",
    "The analysis in the previous section used the number 0.52, which assumes that the distribution of flights at each departure delay is normal. What if you drop that assumption? You then must empirically determine the 30% likelihood at each departure delay.\n",
    "\n",
    "Happily, we do have at least 370 flights at each departure delay (the joys of working with large datasets!), so we can compute the 30th percentile for each departure delay."
   ]
  },
  {
   "cell_type": "code",
   "execution_count": 17,
   "id": "578fc626-4061-4d81-86f5-c5dd5690a066",
   "metadata": {},
   "outputs": [
    {
     "name": "stderr",
     "output_type": "stream",
     "text": [
      "Query complete after 0.00s: 100%|██████████| 1/1 [00:00<00:00, 1011.65query/s]\n",
      "Downloading: 100%|██████████| 240/240 [00:01<00:00, 209.90rows/s]\n"
     ]
    }
   ],
   "source": [
    "%%bigquery depdelay\n",
    "SELECT\n",
    "    DEP_DELAY,\n",
    "    APPROX_QUANTILES(ARR_DELAY, 101)[OFFSET(70)] AS arrival_delay,\n",
    "    COUNT(ARR_DELAY) AS numflights\n",
    "FROM dsongcp.flights_tzcorr GROUP BY DEP_DELAY HAVING numflights > 370 ORDER BY DEP_DELAY"
   ]
  },
  {
   "cell_type": "code",
   "execution_count": 18,
   "id": "d43058c3-40ca-46ea-8acc-e49bf0bdeff7",
   "metadata": {},
   "outputs": [
    {
     "data": {
      "text/plain": [
       "[<matplotlib.lines.Line2D at 0x7f0557dc6990>]"
      ]
     },
     "execution_count": 18,
     "metadata": {},
     "output_type": "execute_result"
    },
    {
     "data": {
      "image/png": "[encoded data removed]",
      "text/plain": [
       "<Figure size 432x288 with 1 Axes>"
      ]
     },
     "metadata": {},
     "output_type": "display_data"
    }
   ],
   "source": [
    "ax = plt.axes()\n",
    "depdelay.plot(kind='line', x='DEP_DELAY', y='arrival_delay', ax=ax, ylim=(0,30), xlim=(0,30), legend=False)\n",
    "\n",
    "ax.set_xlabel('Departure Delay (minutes)')\n",
    "ax.set_ylabel('> 30% prob of this Arrival Delay (minutes)')\n",
    "\n",
    "x = np.arange(0, 30)\n",
    "y = np.ones_like(x) * 15\n",
    "\n",
    "ax.plot(x, y, color='r')\n",
    "\n",
    "y = np.arange(0, 30)\n",
    "x = np.ones_like(y) * 16\n",
    "\n",
    "ax.plot(x, y, 'g.')"
   ]
  },
  {
   "cell_type": "markdown",
   "id": "504e32a7-7909-4cfa-8bb7-8cbf9d0f79ae",
   "metadata": {},
   "source": [
    "From the chart, your decision threshold, without the assumption of normal distribution, is 16 minutes. If a flight is delayed by more than 16 minutes, there is a greater than 30% likelihood that the flight will arrive more than 15 minutes late."
   ]
  }
 ],
 "metadata": {
  "environment": {
   "kernel": "python3",
   "name": "tf2-gpu.2-6.m94",
   "type": "gcloud",
   "uri": "gcr.io/deeplearning-platform-release/tf2-gpu.2-6:m94"
  },
  "kernelspec": {
   "display_name": "Python 3",
   "language": "python",
   "name": "python3"
  },
  "language_info": {
   "codemirror_mode": {
    "name": "ipython",
    "version": 3
   },
   "file_extension": ".py",
   "mimetype": "text/x-python",
   "name": "python",
   "nbconvert_exporter": "python",
   "pygments_lexer": "ipython3",
   "version": "3.7.12"
  }
 },
 "nbformat": 4,
 "nbformat_minor": 5
}
