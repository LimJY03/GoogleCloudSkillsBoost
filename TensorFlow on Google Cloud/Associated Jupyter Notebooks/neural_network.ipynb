{
 "cells": [
  {
   "cell_type": "markdown",
   "metadata": {},
   "source": [
    "# Build a DNN using the Keras Functional API\n",
    "\n",
    "\n",
    "\n",
    "\n",
    "## Learning objectives\n",
    "\n",
    "1. Review how to read in CSV file data using tf.data.\n",
    "2. Specify input, hidden, and output layers in the DNN architecture.\n",
    "3. Review and visualize the final DNN shape.\n",
    "4. Train the model locally and visualize the loss curves.\n",
    "5. Deploy and predict with the model using Cloud AI Platform. \n",
    "\n",
    "\n",
    "## Introduction\n",
    "\n",
    "In this notebook, we will build a Keras DNN to predict the fare amount for NYC taxi cab rides.\n",
    "\n",
    "Each learning objective will correspond to a ***#TODO*** in the student lab notebook."
   ]
  },
  {
   "cell_type": "code",
   "execution_count": 1,
   "metadata": {},
   "outputs": [
    {
     "name": "stdout",
     "output_type": "stream",
     "text": [
      "TensorFlow version:  2.6.4\n"
     ]
    }
   ],
   "source": [
    "# You can use any Python source file as a module by executing an import statement in some other Python source file\n",
    "# The import statement combines two operations; it searches for the named module, then it binds the results of that search to a name in the local scope.\n",
    "import os, json, math\n",
    "\n",
    "# Import data processing libraries like Numpy and TensorFlow\n",
    "import numpy as np\n",
    "import tensorflow as tf\n",
    "\n",
    "# Python shutil module enables us to operate with file objects easily and without diving into file objects a lot.\n",
    "import shutil\n",
    "\n",
    "# Show the currently installed version of TensorFlow\n",
    "print(\"TensorFlow version: \", tf.version.VERSION)\n",
    "\n",
    "os.environ['TF_CPP_MIN_LOG_LEVEL'] = '3' # SET TF ERROR LOG VERBOSITY"
   ]
  },
  {
   "cell_type": "markdown",
   "metadata": {},
   "source": [
    "## Locating the CSV files\n",
    "\n",
    "We will start with the CSV files that we wrote out in the other notebook. Just so you don't have to run the notebook, we saved a copy in ../data/toy_data"
   ]
  },
  {
   "cell_type": "code",
   "execution_count": 2,
   "metadata": {},
   "outputs": [
    {
     "name": "stdout",
     "output_type": "stream",
     "text": [
      "-rw-r--r-- 1 jupyter jupyter 1111933 Jun 30 04:04 ../data/toy_data/taxi-traffic-test_toy.csv\n",
      "-rw-r--r-- 1 jupyter jupyter 4772181 Jun 30 04:04 ../data/toy_data/taxi-traffic-train_toy.csv\n",
      "-rw-r--r-- 1 jupyter jupyter 1038564 Jun 30 04:04 ../data/toy_data/taxi-traffic-valid_toy.csv\n"
     ]
    }
   ],
   "source": [
    "# `ls` is a Linux shell command that lists directory contents\n",
    "# `l` flag list all the files with permissions and details\n",
    "!ls -l ../data/toy_data/*.csv"
   ]
  },
  {
   "cell_type": "markdown",
   "metadata": {},
   "source": [
    "## Lab Task 1: Use tf.data to read the CSV files\n",
    "\n",
    "\n",
    "First let's define our columns of data, which column we're predicting for, and the default values."
   ]
  },
  {
   "cell_type": "code",
   "execution_count": 3,
   "metadata": {},
   "outputs": [],
   "source": [
    "# Define columns of data\n",
    "CSV_COLUMNS = [\n",
    "    'fare_amount',\n",
    "    'pickup_datetime',\n",
    "    'pickup_longitude',\n",
    "    'pickup_latitude',\n",
    "    'dropoff_longitude',\n",
    "    'dropoff_latitude',\n",
    "    'passenger_count',\n",
    "    'key'\n",
    "]\n",
    "LABEL_COLUMN = 'fare_amount'\n",
    "DEFAULTS = [[0.0], ['na'], [0.0], [0.0], [0.0], [0.0], [0.0], ['na']]"
   ]
  },
  {
   "cell_type": "markdown",
   "metadata": {},
   "source": [
    "Next, let's define our features we want to use and our label(s) and then load in the dataset for training."
   ]
  },
  {
   "cell_type": "code",
   "execution_count": 4,
   "metadata": {},
   "outputs": [],
   "source": [
    "# Define features you want to use\n",
    "def features_and_labels(row_data):\n",
    "    \n",
    "    for unwanted_col in ['pickup_datetime', 'key']: row_data.pop(unwanted_col)\n",
    "        \n",
    "    label = row_data.pop(LABEL_COLUMN)\n",
    "    \n",
    "    return row_data, label  # features, label\n",
    "\n",
    "# load the training data\n",
    "def load_dataset(pattern, batch_size=1, mode=tf.estimator.ModeKeys.EVAL):  \n",
    "    \n",
    "    dataset = (tf.data.experimental.make_csv_dataset(pattern, batch_size, CSV_COLUMNS, DEFAULTS).map(features_and_labels)) # features, label\n",
    "\n",
    "    if mode == tf.estimator.ModeKeys.TRAIN: dataset = dataset.shuffle(1000).repeat()\n",
    "\n",
    "    # Take advantage of multi-threading: 1 = AUTOTUNE\n",
    "    dataset = dataset.prefetch(1) \n",
    "\n",
    "    return dataset"
   ]
  },
  {
   "cell_type": "markdown",
   "metadata": {},
   "source": [
    "## Lab Task 2: Build a DNN with Keras\n",
    "\n",
    "Now let's build the Deep Neural Network (DNN) model in Keras and specify the input and hidden layers. We will print out the DNN architecture and then visualize it later on."
   ]
  },
  {
   "cell_type": "code",
   "execution_count": 5,
   "metadata": {},
   "outputs": [
    {
     "name": "stdout",
     "output_type": "stream",
     "text": [
      "Here is our DNN architecture so far:\n",
      "\n",
      "Model: \"model\"\n",
      "__________________________________________________________________________________________________\n",
      "Layer (type)                    Output Shape         Param #     Connected to                     \n",
      "==================================================================================================\n",
      "dropoff_latitude (InputLayer)   [(None,)]            0                                            \n",
      "__________________________________________________________________________________________________\n",
      "dropoff_longitude (InputLayer)  [(None,)]            0                                            \n",
      "__________________________________________________________________________________________________\n",
      "passenger_count (InputLayer)    [(None,)]            0                                            \n",
      "__________________________________________________________________________________________________\n",
      "pickup_latitude (InputLayer)    [(None,)]            0                                            \n",
      "__________________________________________________________________________________________________\n",
      "pickup_longitude (InputLayer)   [(None,)]            0                                            \n",
      "__________________________________________________________________________________________________\n",
      "dense_features (DenseFeatures)  (None, 5)            0           dropoff_latitude[0][0]           \n",
      "                                                                 dropoff_longitude[0][0]          \n",
      "                                                                 passenger_count[0][0]            \n",
      "                                                                 pickup_latitude[0][0]            \n",
      "                                                                 pickup_longitude[0][0]           \n",
      "__________________________________________________________________________________________________\n",
      "h1 (Dense)                      (None, 32)           192         dense_features[0][0]             \n",
      "__________________________________________________________________________________________________\n",
      "h2 (Dense)                      (None, 8)            264         h1[0][0]                         \n",
      "__________________________________________________________________________________________________\n",
      "fare (Dense)                    (None, 1)            9           h2[0][0]                         \n",
      "==================================================================================================\n",
      "Total params: 465\n",
      "Trainable params: 465\n",
      "Non-trainable params: 0\n",
      "__________________________________________________________________________________________________\n",
      "None\n"
     ]
    }
   ],
   "source": [
    "# Build a simple Keras DNN using its Functional API\n",
    "def rmse(y_true, y_pred):\n",
    "    return tf.sqrt(tf.reduce_mean(tf.square(y_pred - y_true))) \n",
    "\n",
    "def build_dnn_model():\n",
    "    INPUT_COLS = ['pickup_longitude', 'pickup_latitude', 'dropoff_longitude', 'dropoff_latitude', 'passenger_count']\n",
    "\n",
    "    # TODO 2\n",
    "    # Pnput layer\n",
    "    inputs = {colname: tf.keras.layers.Input(name=colname, shape=(), dtype='float32') for colname in INPUT_COLS}\n",
    "    \n",
    "    # tf.feature_column.numeric_column() represents real valued or numerical features.\n",
    "    feature_columns = {colname: tf.feature_column.numeric_column(colname) for colname in INPUT_COLS}\n",
    "    \n",
    "    # The constructor for DenseFeatures takes a list of numeric columns\n",
    "    # The Functional API in Keras requires that you specify: LayerConstructor()(inputs)\n",
    "    dnn_inputs = tf.keras.layers.DenseFeatures(feature_columns.values())(inputs)\n",
    "\n",
    "    # 2 hidden layers of [32, 8] just in like the BQML DNN\n",
    "    h1 = tf.keras.layers.Dense(32, activation='relu', name='h1')(dnn_inputs)\n",
    "    h2 = tf.keras.layers.Dense(8, activation='relu', name='h2')(h1)\n",
    "\n",
    "    # Final output is a linear activation because this is regression\n",
    "    output = tf.keras.layers.Dense(1, activation='linear', name='fare')(h2)\n",
    "    model = tf.keras.models.Model(inputs, output)\n",
    "    model.compile(optimizer='adam', loss='mse', metrics=[rmse, 'mse'])\n",
    "    \n",
    "    return model\n",
    "\n",
    "model = build_dnn_model()\n",
    "\n",
    "print(\"Here is our DNN architecture so far:\\n\")\n",
    "print(model.summary())"
   ]
  },
  {
   "cell_type": "markdown",
   "metadata": {},
   "source": [
    "## Lab Task 3: Visualize the DNN\n",
    "\n",
    "We can visualize the DNN using the Keras [`plot_model()`](https://www.tensorflow.org/versions/r2.0/api_docs/python/tf/keras/utils/plot_model) utility."
   ]
  },
  {
   "cell_type": "code",
   "execution_count": 6,
   "metadata": {},
   "outputs": [
    {
     "data": {
      "image/png": "[encoded data removed]",
      "text/plain": [
       "<IPython.core.display.Image object>"
      ]
     },
     "execution_count": 6,
     "metadata": {},
     "output_type": "execute_result"
    }
   ],
   "source": [
    "# tf.keras.utils.plot_model() Converts a Keras model to dot format and save to a file.\n",
    "tf.keras.utils.plot_model(model, 'dnn_model.png', show_shapes=False, rankdir='LR')"
   ]
  },
  {
   "cell_type": "markdown",
   "metadata": {},
   "source": [
    "## Lab Task 4: Train the model\n",
    "\n",
    "To train the model, simply call [`model.fit()`](https://keras.io/models/model/#fit).\n",
    "\n",
    "Note that we should really use many more `NUM_TRAIN_EXAMPLES` (i.e. a larger dataset). We shouldn't make assumptions about the quality of the model based on training / evaluating it on a small sample of the full data."
   ]
  },
  {
   "cell_type": "code",
   "execution_count": 7,
   "metadata": {},
   "outputs": [
    {
     "name": "stdout",
     "output_type": "stream",
     "text": [
      "Epoch 1/32\n",
      "48/48 [==============================] - 3s 43ms/step - loss: 432.5375 - rmse: 18.7647 - mse: 432.5375 - val_loss: 92.9973 - val_rmse: 9.6264 - val_mse: 92.9973\n",
      "Epoch 2/32\n",
      "48/48 [==============================] - 1s 22ms/step - loss: 104.3240 - rmse: 9.7501 - mse: 104.3240 - val_loss: 88.4672 - val_rmse: 9.3971 - val_mse: 88.4672\n",
      "Epoch 3/32\n",
      "48/48 [==============================] - 1s 25ms/step - loss: 80.8754 - rmse: 8.5772 - mse: 80.8754 - val_loss: 86.2195 - val_rmse: 9.2649 - val_mse: 86.2195\n",
      "Epoch 4/32\n",
      "48/48 [==============================] - 1s 26ms/step - loss: 71.8836 - rmse: 8.0381 - mse: 71.8836 - val_loss: 91.2122 - val_rmse: 9.5348 - val_mse: 91.2122\n",
      "Epoch 5/32\n",
      "48/48 [==============================] - 1s 25ms/step - loss: 106.4365 - rmse: 9.8022 - mse: 106.4365 - val_loss: 88.1991 - val_rmse: 9.3768 - val_mse: 88.1991\n",
      "Epoch 6/32\n",
      "48/48 [==============================] - 1s 22ms/step - loss: 89.3343 - rmse: 9.0044 - mse: 89.3343 - val_loss: 89.2865 - val_rmse: 9.4364 - val_mse: 89.2865\n",
      "Epoch 7/32\n",
      "48/48 [==============================] - 1s 22ms/step - loss: 93.4577 - rmse: 9.0910 - mse: 93.4577 - val_loss: 87.1986 - val_rmse: 9.3207 - val_mse: 87.1986\n",
      "Epoch 8/32\n",
      "48/48 [==============================] - 1s 20ms/step - loss: 101.6308 - rmse: 9.2219 - mse: 101.6308 - val_loss: 84.9291 - val_rmse: 9.2036 - val_mse: 84.9291\n",
      "Epoch 9/32\n",
      "48/48 [==============================] - 1s 25ms/step - loss: 76.5311 - rmse: 8.3265 - mse: 76.5311 - val_loss: 87.3999 - val_rmse: 9.3145 - val_mse: 87.3999\n",
      "Epoch 10/32\n",
      "48/48 [==============================] - 1s 22ms/step - loss: 87.7197 - rmse: 8.9963 - mse: 87.7197 - val_loss: 86.3116 - val_rmse: 9.2699 - val_mse: 86.3116\n",
      "Epoch 11/32\n",
      "48/48 [==============================] - 1s 22ms/step - loss: 88.9417 - rmse: 9.0534 - mse: 88.9417 - val_loss: 87.9793 - val_rmse: 9.3720 - val_mse: 87.9793\n",
      "Epoch 12/32\n",
      "48/48 [==============================] - 1s 23ms/step - loss: 87.9957 - rmse: 9.0075 - mse: 87.9957 - val_loss: 86.5494 - val_rmse: 9.2874 - val_mse: 86.5494\n",
      "Epoch 13/32\n",
      "48/48 [==============================] - 1s 26ms/step - loss: 101.8876 - rmse: 9.2824 - mse: 101.8876 - val_loss: 88.2362 - val_rmse: 9.3789 - val_mse: 88.2362\n",
      "Epoch 14/32\n",
      "48/48 [==============================] - 1s 19ms/step - loss: 94.7195 - rmse: 9.2567 - mse: 94.7195 - val_loss: 86.8814 - val_rmse: 9.2912 - val_mse: 86.8814\n",
      "Epoch 15/32\n",
      "48/48 [==============================] - 1s 25ms/step - loss: 93.0755 - rmse: 9.1450 - mse: 93.0755 - val_loss: 86.9256 - val_rmse: 9.3024 - val_mse: 86.9256\n",
      "Epoch 16/32\n",
      "48/48 [==============================] - 1s 27ms/step - loss: 94.1534 - rmse: 8.8764 - mse: 94.1534 - val_loss: 85.6083 - val_rmse: 9.2312 - val_mse: 85.6083\n",
      "Epoch 17/32\n",
      "48/48 [==============================] - 1s 24ms/step - loss: 89.4412 - rmse: 9.0203 - mse: 89.4412 - val_loss: 83.5423 - val_rmse: 9.0874 - val_mse: 83.5423\n",
      "Epoch 18/32\n",
      "48/48 [==============================] - 1s 21ms/step - loss: 87.5270 - rmse: 8.9111 - mse: 87.5270 - val_loss: 86.9808 - val_rmse: 9.3086 - val_mse: 86.9808\n",
      "Epoch 19/32\n",
      "48/48 [==============================] - 1s 22ms/step - loss: 83.8757 - rmse: 8.5748 - mse: 83.8757 - val_loss: 83.2507 - val_rmse: 9.0885 - val_mse: 83.2507\n",
      "Epoch 20/32\n",
      "48/48 [==============================] - 1s 24ms/step - loss: 86.6975 - rmse: 8.8022 - mse: 86.6975 - val_loss: 86.4681 - val_rmse: 9.2848 - val_mse: 86.4681\n",
      "Epoch 21/32\n",
      "48/48 [==============================] - 1s 23ms/step - loss: 84.2789 - rmse: 8.6663 - mse: 84.2789 - val_loss: 85.7895 - val_rmse: 9.2380 - val_mse: 85.7895\n",
      "Epoch 22/32\n",
      "48/48 [==============================] - 1s 19ms/step - loss: 90.4848 - rmse: 8.9641 - mse: 90.4848 - val_loss: 85.2449 - val_rmse: 9.2222 - val_mse: 85.2449\n",
      "Epoch 23/32\n",
      "48/48 [==============================] - 1s 24ms/step - loss: 95.5160 - rmse: 9.2935 - mse: 95.5160 - val_loss: 84.6820 - val_rmse: 9.1944 - val_mse: 84.6820\n",
      "Epoch 24/32\n",
      "48/48 [==============================] - 1s 26ms/step - loss: 87.3377 - rmse: 8.9356 - mse: 87.3377 - val_loss: 90.6577 - val_rmse: 9.5049 - val_mse: 90.6577\n",
      "Epoch 25/32\n",
      "48/48 [==============================] - 1s 22ms/step - loss: 88.5658 - rmse: 9.0478 - mse: 88.5658 - val_loss: 86.4135 - val_rmse: 9.2810 - val_mse: 86.4135\n",
      "Epoch 26/32\n",
      "48/48 [==============================] - 1s 24ms/step - loss: 86.8195 - rmse: 9.0357 - mse: 86.8195 - val_loss: 83.6502 - val_rmse: 9.1230 - val_mse: 83.6502\n",
      "Epoch 27/32\n",
      "48/48 [==============================] - 1s 18ms/step - loss: 92.5305 - rmse: 9.2152 - mse: 92.5305 - val_loss: 82.9580 - val_rmse: 9.1028 - val_mse: 82.9580\n",
      "Epoch 28/32\n",
      "48/48 [==============================] - 1s 19ms/step - loss: 100.1645 - rmse: 9.5798 - mse: 100.1645 - val_loss: 87.6062 - val_rmse: 9.3443 - val_mse: 87.6062\n",
      "Epoch 29/32\n",
      "48/48 [==============================] - 1s 24ms/step - loss: 87.1371 - rmse: 8.8399 - mse: 87.1371 - val_loss: 87.6053 - val_rmse: 9.3477 - val_mse: 87.6053\n",
      "Epoch 30/32\n",
      "48/48 [==============================] - 1s 23ms/step - loss: 106.9885 - rmse: 9.9332 - mse: 106.9885 - val_loss: 84.2371 - val_rmse: 9.1551 - val_mse: 84.2371\n",
      "Epoch 31/32\n",
      "48/48 [==============================] - 1s 19ms/step - loss: 96.0448 - rmse: 9.0527 - mse: 96.0448 - val_loss: 92.5115 - val_rmse: 9.6100 - val_mse: 92.5115\n",
      "Epoch 32/32\n",
      "48/48 [==============================] - 1s 24ms/step - loss: 75.2417 - rmse: 8.2443 - mse: 75.2417 - val_loss: 82.9917 - val_rmse: 9.0813 - val_mse: 82.9917\n"
     ]
    }
   ],
   "source": [
    "TRAIN_BATCH_SIZE = 32\n",
    "NUM_TRAIN_EXAMPLES = 10000 * 5 # training dataset repeats, so it will wrap around\n",
    "NUM_EVALS = 32  # how many times to evaluate\n",
    "NUM_EVAL_EXAMPLES = 10000 # enough to get a reasonable sample, but not so much that it slows down\n",
    "\n",
    "trainds = load_dataset('../data/toy_data/taxi-traffic-train*', TRAIN_BATCH_SIZE, tf.estimator.ModeKeys.TRAIN)\n",
    "evalds = load_dataset('../data/toy_data/taxi-traffic-valid*', 1000, tf.estimator.ModeKeys.EVAL).take(NUM_EVAL_EXAMPLES//1000)\n",
    "\n",
    "steps_per_epoch = NUM_TRAIN_EXAMPLES // (TRAIN_BATCH_SIZE * NUM_EVALS)\n",
    "\n",
    "# Model Fitting\n",
    "history = model.fit(trainds, validation_data=evalds, epochs=NUM_EVALS, steps_per_epoch=steps_per_epoch)"
   ]
  },
  {
   "cell_type": "markdown",
   "metadata": {},
   "source": [
    "### Visualize the model loss curve\n",
    "\n",
    "Next, we will use matplotlib to draw the model's loss curves for training and validation."
   ]
  },
  {
   "cell_type": "code",
   "execution_count": 8,
   "metadata": {},
   "outputs": [
    {
     "data": {
      "image/png": "[encoded data removed]",
      "text/plain": [
       "<Figure size 720x360 with 2 Axes>"
      ]
     },
     "metadata": {
      "needs_background": "light"
     },
     "output_type": "display_data"
    }
   ],
   "source": [
    "# plot\n",
    "# Use matplotlib for visualizing the model\n",
    "import matplotlib.pyplot as plt\n",
    "nrows = 1\n",
    "ncols = 2\n",
    "\n",
    "# The .figure() method will create a new figure, or activate an existing figure.\n",
    "fig = plt.figure(figsize=(10, 5))\n",
    "\n",
    "for idx, key in enumerate(['loss', 'rmse']): \n",
    "    ax = fig.add_subplot(nrows, ncols, idx + 1)\n",
    "\n",
    "    # The .plot() is a versatile function, and will take an arbitrary number of arguments. For example, to plot x versus y.\n",
    "    plt.plot(history.history[key])\n",
    "    plt.plot(history.history['val_{}'.format(key)])\n",
    "    \n",
    "    # The .title() method sets a title for the axes.\n",
    "    plt.title('model {}'.format(key))\n",
    "    plt.ylabel(key)\n",
    "    plt.xlabel('epoch')\n",
    "    \n",
    "    # The .legend() method will place a legend on the axes.\n",
    "    plt.legend(['train', 'validation'], loc='upper left');"
   ]
  },
  {
   "cell_type": "markdown",
   "metadata": {},
   "source": [
    "## Lab Task 5: Predict with the model locally\n",
    "\n",
    "To predict with Keras, you simply call [`model.predict()`](https://keras.io/models/model/#predict) and pass in the cab ride you want to predict the fare amount for."
   ]
  },
  {
   "cell_type": "code",
   "execution_count": 9,
   "metadata": {},
   "outputs": [
    {
     "data": {
      "text/plain": [
       "array([[-13.914016]], dtype=float32)"
      ]
     },
     "execution_count": 9,
     "metadata": {},
     "output_type": "execute_result"
    }
   ],
   "source": [
    "# TODO 5\n",
    "# Use the model to do prediction with `model.predict()`\n",
    "model.predict({\n",
    "    'pickup_longitude': tf.convert_to_tensor([-73.982683]),\n",
    "    'pickup_latitude': tf.convert_to_tensor([40.742104]),\n",
    "    'dropoff_longitude': tf.convert_to_tensor([-73.983766]),\n",
    "    'dropoff_latitude': tf.convert_to_tensor([40.755174]),\n",
    "    'passenger_count': tf.convert_to_tensor([3.0])\n",
    "}, steps=1)"
   ]
  },
  {
   "cell_type": "markdown",
   "metadata": {},
   "source": [
    "Of course, this is not realistic, because we can't expect client code to have a model object in memory. We'll have to export our model to a file, and expect client code to instantiate the model from that exported file."
   ]
  },
  {
   "cell_type": "markdown",
   "metadata": {},
   "source": [
    "Copyright 2021 Google Inc.\n",
    "Licensed under the Apache License, Version 2.0 (the \"License\"); you may not use this file except in compliance with the License. You may obtain a copy of the License at\n",
    "http://www.apache.org/licenses/LICENSE-2.0\n",
    "Unless required by applicable law or agreed to in writing, software distributed under the License is distributed on an \"AS IS\" BASIS, WITHOUT WARRANTIES OR CONDITIONS OF ANY KIND, either express or implied. See the License for the specific language governing permissions and limitations under the License."
   ]
  }
 ],
 "metadata": {
  "environment": {
   "kernel": "python3",
   "name": "tf2-gpu.2-6.m93",
   "type": "gcloud",
   "uri": "gcr.io/deeplearning-platform-release/tf2-gpu.2-6:m93"
  },
  "kernelspec": {
   "display_name": "Python 3",
   "language": "python",
   "name": "python3"
  },
  "language_info": {
   "codemirror_mode": {
    "name": "ipython",
    "version": 3
   },
   "file_extension": ".py",
   "mimetype": "text/x-python",
   "name": "python",
   "nbconvert_exporter": "python",
   "pygments_lexer": "ipython3",
   "version": "3.7.12"
  }
 },
 "nbformat": 4,
 "nbformat_minor": 4
}
